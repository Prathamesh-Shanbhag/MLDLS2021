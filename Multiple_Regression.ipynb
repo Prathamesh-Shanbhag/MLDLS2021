{
  "nbformat": 4,
  "nbformat_minor": 0,
  "metadata": {
    "colab": {
      "name": "Multiple-Regression.ipynb",
      "provenance": [],
      "collapsed_sections": [],
      "authorship_tag": "ABX9TyOZ3duUUV6OmYJHQb8mF2WY",
      "include_colab_link": true
    },
    "kernelspec": {
      "name": "python3",
      "display_name": "Python 3"
    },
    "language_info": {
      "name": "python"
    }
  },
  "cells": [
    {
      "cell_type": "markdown",
      "metadata": {
        "id": "view-in-github",
        "colab_type": "text"
      },
      "source": [
        "<a href=\"https://colab.research.google.com/github/Prathamesh-Shanbhag/MLDLS2021/blob/main/Multiple_Regression.ipynb\" target=\"_parent\"><img src=\"https://colab.research.google.com/assets/colab-badge.svg\" alt=\"Open In Colab\"/></a>"
      ]
    },
    {
      "cell_type": "code",
      "metadata": {
        "id": "74Sacz0zHBvY"
      },
      "source": [
        "# Importing the Required Libraries Numpy,Pandas & MatplotLib.\n",
        "import numpy as np\n",
        "import pandas as pd\n",
        "import matplotlib.pyplot as plt"
      ],
      "execution_count": 1,
      "outputs": []
    },
    {
      "cell_type": "code",
      "metadata": {
        "colab": {
          "base_uri": "https://localhost:8080/"
        },
        "id": "grFf8PG9I2PD",
        "outputId": "e0eb298c-a9cf-4be9-92a5-e2910d1bd2f6"
      },
      "source": [
        "# Reading from CSV Dataset file.\n",
        "dataset = pd.read_csv('CO2_data2.csv')\n",
        "\n",
        "print(dataset)"
      ],
      "execution_count": 9,
      "outputs": [
        {
          "output_type": "stream",
          "text": [
            "      Engine Size(L)  ...  CO2 Emissions(g/km)\n",
            "0                2.0  ...                  196\n",
            "1                2.4  ...                  221\n",
            "2                1.5  ...                  136\n",
            "3                3.5  ...                  255\n",
            "4                3.5  ...                  244\n",
            "...              ...  ...                  ...\n",
            "7380             2.0  ...                  219\n",
            "7381             2.0  ...                  232\n",
            "7382             2.0  ...                  240\n",
            "7383             2.0  ...                  232\n",
            "7384             2.0  ...                  248\n",
            "\n",
            "[7385 rows x 4 columns]\n"
          ],
          "name": "stdout"
        }
      ]
    },
    {
      "cell_type": "code",
      "metadata": {
        "colab": {
          "base_uri": "https://localhost:8080/"
        },
        "id": "uTpzddoILiUF",
        "outputId": "d9c0cf65-cd8d-48e2-dec3-50888b09ee47"
      },
      "source": [
        "# Assigning the values to two variables X & Y using List Slicing (Adding all Columns except Target Attribute to X)\n",
        "X = dataset.iloc[:,:-1].values\n",
        "Y = dataset.iloc[:,-1].values\n",
        "\n",
        "print(X)\n",
        "print(Y)"
      ],
      "execution_count": 37,
      "outputs": [
        {
          "output_type": "stream",
          "text": [
            "[[ 2.   4.   9.9]\n",
            " [ 2.4  4.  11.2]\n",
            " [ 1.5  4.   6. ]\n",
            " ...\n",
            " [ 2.   4.  11.7]\n",
            " [ 2.   4.  11.2]\n",
            " [ 2.   4.  12.2]]\n",
            "[196 221 136 ... 240 232 248]\n"
          ],
          "name": "stdout"
        }
      ]
    },
    {
      "cell_type": "code",
      "metadata": {
        "colab": {
          "base_uri": "https://localhost:8080/"
        },
        "id": "Au-gZdwIMCmA",
        "outputId": "77d99c54-20eb-4764-e29b-b79e878528c6"
      },
      "source": [
        "#Splitting the data into Training and Testing Data (Using 0.3 is giving better accuracy by approx ~ 2%)\n",
        "from sklearn.model_selection import train_test_split\n",
        "X_train, X_test, Y_train, Y_test = train_test_split(X,Y, test_size=0.3)\n",
        "print(X_train.shape, X_test.shape)"
      ],
      "execution_count": 62,
      "outputs": [
        {
          "output_type": "stream",
          "text": [
            "(5169, 3) (2216, 3)\n"
          ],
          "name": "stdout"
        }
      ]
    },
    {
      "cell_type": "code",
      "metadata": {
        "colab": {
          "base_uri": "https://localhost:8080/"
        },
        "id": "KNebGVPYMPeY",
        "outputId": "9ff78e90-6a6a-4033-af27-19dcaf13a8ad"
      },
      "source": [
        "#Fitting Simple Linear Regression Model using X_train & Y_train values\n",
        "from sklearn.linear_model import LinearRegression\n",
        "model = LinearRegression()\n",
        "model.fit(X_train, Y_train)"
      ],
      "execution_count": 63,
      "outputs": [
        {
          "output_type": "execute_result",
          "data": {
            "text/plain": [
              "LinearRegression(copy_X=True, fit_intercept=True, n_jobs=None, normalize=False)"
            ]
          },
          "metadata": {
            "tags": []
          },
          "execution_count": 63
        }
      ]
    },
    {
      "cell_type": "code",
      "metadata": {
        "colab": {
          "base_uri": "https://localhost:8080/"
        },
        "id": "AJqkNuJrNZjI",
        "outputId": "21f17e94-add2-4bab-f5a9-da098b350cb9"
      },
      "source": [
        "#Predicting the test results\n",
        "Y_pred = model.predict(X_test)\n",
        "print(Y_pred)\n",
        "print(Y_train)"
      ],
      "execution_count": 64,
      "outputs": [
        {
          "output_type": "stream",
          "text": [
            "[224.54773899 268.05725461 318.28853982 ... 213.46248817 199.63870242\n",
            " 203.13810592]\n",
            "[274 187 221 ... 240 172 138]\n"
          ],
          "name": "stdout"
        }
      ]
    },
    {
      "cell_type": "code",
      "metadata": {
        "colab": {
          "base_uri": "https://localhost:8080/"
        },
        "id": "pkHhw3pENcS8",
        "outputId": "2586e803-386b-4752-b119-5c7632020702"
      },
      "source": [
        "#Calculate Accuracy\n",
        "accuracy = model.score(X_test,Y_test)\n",
        "print(accuracy)"
      ],
      "execution_count": 65,
      "outputs": [
        {
          "output_type": "stream",
          "text": [
            "0.8831088391134028\n"
          ],
          "name": "stdout"
        }
      ]
    },
    {
      "cell_type": "code",
      "metadata": {
        "colab": {
          "base_uri": "https://localhost:8080/"
        },
        "id": "hSozKRbTNhoM",
        "outputId": "3ddf0a89-5133-4f19-e1bf-c609a552fdd6"
      },
      "source": [
        "# Predicting on an external Data\n",
        "test_data = np.array([[ 2,6,112]])\n",
        "test_pred = model.predict(test_data)\n",
        "print(test_pred)"
      ],
      "execution_count": 66,
      "outputs": [
        {
          "output_type": "stream",
          "text": [
            "[1347.47858372]\n"
          ],
          "name": "stdout"
        }
      ]
    },
    {
      "cell_type": "code",
      "metadata": {
        "colab": {
          "base_uri": "https://localhost:8080/"
        },
        "id": "mp_tmrB8RlbU",
        "outputId": "ddd62142-6dbe-4315-a28e-322f846f738a"
      },
      "source": [
        "engineSize =int(input(\"What is your Engine Size? \"))\n",
        "cylinderNumber = int(input(\"Number of cyclinders your engine has? \"))\n",
        "fuelConsumption = int(input(\"What is your fuel consumption in L/100km? \"))\n",
        "\n",
        "co2Emission = model.predict(np.array([[engineSize, cylinderNumber, fuelConsumption]])) \n",
        "print('Estimated CO2 Emission with ' + str(fuelConsumption) + ' Litres of Fuel , Engine Size =  '+ str(engineSize) + ' & No of Cylinders = ' + str(cylinderNumber) + ' is ' + str(co2Emission[0]) + ' gm per kilometer')"
      ],
      "execution_count": 68,
      "outputs": [
        {
          "output_type": "stream",
          "text": [
            "What is your Engine Size? 4\n",
            "Number of cyclinders your engine has? 8\n",
            "What is your fuel consumption in L/100km? 350\n",
            "Estimated CO2 Emission with 350 Litres of Fuel , Engine Size =  4 & No of Cylinders = 8 is 4008.9111314415204 gm per kilometer\n"
          ],
          "name": "stdout"
        }
      ]
    }
  ]
}