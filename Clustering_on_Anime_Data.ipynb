{
  "nbformat": 4,
  "nbformat_minor": 0,
  "metadata": {
    "colab": {
      "name": "Clustering on Anime Data.ipynb",
      "provenance": [],
      "authorship_tag": "ABX9TyNo2M8zyeaGFxa5AGhs2p5B",
      "include_colab_link": true
    },
    "kernelspec": {
      "name": "python3",
      "display_name": "Python 3"
    },
    "language_info": {
      "name": "python"
    }
  },
  "cells": [
    {
      "cell_type": "markdown",
      "metadata": {
        "id": "view-in-github",
        "colab_type": "text"
      },
      "source": [
        "<a href=\"https://colab.research.google.com/github/Prathamesh-Shanbhag/MLDLS2021/blob/main/Clustering_on_Anime_Data.ipynb\" target=\"_parent\"><img src=\"https://colab.research.google.com/assets/colab-badge.svg\" alt=\"Open In Colab\"/></a>"
      ]
    },
    {
      "cell_type": "markdown",
      "metadata": {
        "id": "bFboymqFkX1s"
      },
      "source": [
        "# ***K-Means Clustering***"
      ]
    },
    {
      "cell_type": "code",
      "metadata": {
        "id": "m2_Yfcdp6LDm"
      },
      "source": [
        "#importing libraries\n",
        "import pandas as pd\n",
        "import numpy as np\n",
        "import matplotlib.pyplot as plt"
      ],
      "execution_count": 1,
      "outputs": []
    },
    {
      "cell_type": "code",
      "metadata": {
        "colab": {
          "base_uri": "https://localhost:8080/"
        },
        "id": "a1A62n_navgx",
        "outputId": "2daef66b-0963-4688-be1e-8f1b993bdeb1"
      },
      "source": [
        "dataset = pd.read_csv(\"anime.csv\")\n",
        "print(dataset)"
      ],
      "execution_count": 32,
      "outputs": [
        {
          "output_type": "stream",
          "text": [
            "     anime_id  rating\n",
            "0       32281    9.37\n",
            "1        5114    9.26\n",
            "2       28977    9.25\n",
            "3        9253    9.17\n",
            "4        9969    9.16\n",
            "..        ...     ...\n",
            "327     24997    8.18\n",
            "328     32902    8.18\n",
            "329      8063    8.18\n",
            "330     25879    8.18\n",
            "331       889    8.17\n",
            "\n",
            "[332 rows x 2 columns]\n"
          ],
          "name": "stdout"
        }
      ]
    },
    {
      "cell_type": "markdown",
      "metadata": {
        "id": "zwnnB9IgeF6J"
      },
      "source": [
        "Using only 2 columns so that data visualization is possible."
      ]
    },
    {
      "cell_type": "code",
      "metadata": {
        "colab": {
          "base_uri": "https://localhost:8080/"
        },
        "id": "E7bODunjeEZu",
        "outputId": "053710d7-25d0-477a-ae38-b6f4351ca429"
      },
      "source": [
        "X = dataset.iloc[:,:].values\n",
        "x1= dataset.iloc[:,0].values\n",
        "x2= dataset.iloc[:,1].values\n",
        "print(x1,x2)"
      ],
      "execution_count": 33,
      "outputs": [
        {
          "output_type": "stream",
          "text": [
            "[32281  5114 28977  9253  9969 32935 11061   820 15335 15417  4181 28851\n",
            "   918  2904 28891   199 23273 24701 12355  1575   263    44     1 30276\n",
            "   164  7311 17074 21939   457  2001   245 32983  5258 28957 11665   431\n",
            " 11741 31757    19 12365  1535 32366 30654 20583 19647  4282 10379 22135\n",
            " 21329 31043  7785  3297 30709  6114 31240  4565  5300  9989 24415 11577\n",
            " 10408 28171 32995 21899 26055  7472   777 22535 28735 12431 28805   578\n",
            " 16894  5028    21   801 31933  5205 17389   170 10162 18617 32182   877\n",
            "  2251 24687 16498 10030  5941 30346  3784 13125 12029 14397 10087 14719\n",
            "  9756 10165 13601 22789 30230 18115 11981 11917   205 32282  6594 11979\n",
            "  7655  2246 25835  2921   136 30503 12531   523   467   572 19815  2559\n",
            "   392   486 11771  1698  5341 25781 10863 28701  5420  9260    32  4224\n",
            "  2236  2685 31181    45  2418  1365 22297   627 10937 23755  4081  4155\n",
            "  1889   137   139 23317   558  5040    57    33     5  1842  6336 20651\n",
            "  1210   338 13759  6547  5081 32867   264 12859   853  5460  6746  5690\n",
            "   329 34240   513  6945  1142  6811 16664  1604 22145  2966 31964 19363\n",
            " 18195  9890  9130  9863  7674 11843 16782 28675  3226 21557 31715    43\n",
            "  9617 31051 10153  1033 32188  3091 12115 28223   121  3002   138  6675\n",
            " 10800 32005   813 27821 28725   585 16067    30 31490   759     6  6864\n",
            "  9735 11977 11123 23847 33161   962  1519  2167 16706  5681  3901  6467\n",
            " 10271 22507  3701 19123 33255   372   265 25681  4722 24277   239   512\n",
            "  4477 15323 31174 23327  5365  3702  3167  7465  7054  1257 23283  2025\n",
            "   235  1364 18689 22043 31988 20899  1453 23623  1559  1382 23289    18\n",
            "  4814 16662 12031  8129 14513  2581 30015  6171  1827 25013  1367 27833\n",
            " 26213  1974  8425 12069   185 18679  2034   437   721 12477  4938  2402\n",
            "  6702  1566 31741   440  4107  1506  2759    72  3016  3783  3927 11597\n",
            " 28025 24833 29893 27663  1482  3371 25313  1430 33051  7720  1914 20371\n",
            " 15039  2164   237  2449 10643 17739   135  6045 16001  6211   232  4789\n",
            " 16918    16  1486 24997 32902  8063 25879   889] [9.37 9.26 9.25 9.17 9.16 9.15 9.13 9.11 9.1  9.11 9.06 9.05 9.04 8.98\n",
            " 8.93 8.93 8.92 8.88 8.84 8.83 8.83 8.83 8.82 8.82 8.81 8.81 8.8  8.8\n",
            " 8.78 8.78 8.77 8.76 8.75 8.75 8.75 8.74 8.73 8.73 8.72 8.71 8.71 8.69\n",
            " 8.68 8.68 8.68 8.68 8.67 8.67 8.66 8.65 8.65 8.64 8.64 8.64 8.64 8.64\n",
            " 8.64 8.62 8.62 8.61 8.61 8.61 8.61 8.6  8.6  8.59 8.59 8.59 8.59 8.59\n",
            " 8.58 8.58 8.58 8.58 8.58 8.57 8.57 8.57 8.57 8.56 8.56 8.55 8.55 8.55\n",
            " 8.54 8.54 8.54 8.53 8.53 8.53 8.53 8.53 8.53 8.52 8.51 8.51 8.51 8.52\n",
            " 8.5  8.5  8.5  8.5  8.5  8.5  8.5  8.5  8.49 8.49 8.49 8.49 8.49 8.48\n",
            " 8.48 8.48 8.48 8.48 8.47 8.47 8.47 8.47 8.47 8.46 8.46 8.46 8.46 8.45\n",
            " 8.46 8.45 8.45 8.45 8.45 8.45 8.44 8.44 8.43 8.43 8.43 8.42 8.42 8.42\n",
            " 8.42 8.42 8.42 8.42 8.41 8.41 8.41 8.41 8.41 8.41 8.4  8.4  8.4  8.4\n",
            " 8.4  8.4  8.4  8.4  8.4  8.39 8.39 8.39 8.39 8.39 8.39 8.38 8.38 8.38\n",
            " 8.38 8.38 8.38 8.37 8.37 8.37 8.37 8.37 8.37 8.37 8.36 8.36 8.36 8.36\n",
            " 8.36 8.36 8.35 8.35 8.35 8.35 8.35 8.35 8.34 8.34 8.34 8.34 8.34 8.34\n",
            " 8.34 8.34 8.33 8.33 8.33 8.33 8.33 8.33 8.32 8.32 8.32 8.32 8.32 8.32\n",
            " 8.32 8.32 8.32 8.32 8.32 8.32 8.31 8.31 8.31 8.31 8.31 8.3  8.3  8.3\n",
            " 8.3  8.3  8.29 8.29 8.29 8.29 8.29 8.29 8.29 8.28 8.28 8.28 8.28 8.28\n",
            " 8.27 8.27 8.27 8.27 8.27 8.27 8.27 8.26 8.26 8.26 8.26 8.26 8.26 8.25\n",
            " 8.25 8.25 8.25 8.25 8.25 8.25 8.25 8.26 8.25 8.25 8.24 8.24 8.24 8.24\n",
            " 8.24 8.24 8.24 8.24 8.24 8.24 8.24 8.23 8.23 8.23 8.23 8.23 8.23 8.23\n",
            " 8.23 8.23 8.23 8.23 8.23 8.23 8.23 8.22 8.22 8.22 8.22 8.22 8.22 8.21\n",
            " 8.21 8.21 8.21 8.21 8.21 8.21 8.21 8.2  8.2  8.2  8.2  8.2  8.2  8.2\n",
            " 8.2  8.2  8.2  8.2  8.19 8.19 8.19 8.19 8.19 8.19 8.19 8.19 8.19 8.19\n",
            " 8.18 8.18 8.18 8.18 8.18 8.18 8.18 8.18 8.18 8.17]\n"
          ],
          "name": "stdout"
        }
      ]
    },
    {
      "cell_type": "code",
      "metadata": {
        "colab": {
          "base_uri": "https://localhost:8080/",
          "height": 312
        },
        "id": "LQZxyTPVeWow",
        "outputId": "50adbfeb-f938-49ca-a3b1-46b40906f2a4"
      },
      "source": [
        "# Visualizing the data using matplotlib.pyplot On a 2D Graph\n",
        "plt.xlabel('ID')\n",
        "plt.ylabel('Rating')\n",
        "plt.title('ID v/s Rating')\n",
        "plt.scatter(x1,x2,color='blue')"
      ],
      "execution_count": 34,
      "outputs": [
        {
          "output_type": "execute_result",
          "data": {
            "text/plain": [
              "<matplotlib.collections.PathCollection at 0x7f4bf9cc63d0>"
            ]
          },
          "metadata": {
            "tags": []
          },
          "execution_count": 34
        },
        {
          "output_type": "display_data",
          "data": {
            "image/png": "[encoded data removed]",
            "text/plain": [
              "<Figure size 432x288 with 1 Axes>"
            ]
          },
          "metadata": {
            "tags": [],
            "needs_background": "light"
          }
        }
      ]
    },
    {
      "cell_type": "code",
      "metadata": {
        "colab": {
          "base_uri": "https://localhost:8080/"
        },
        "id": "2fGvJaiEgeDq",
        "outputId": "1539446a-d755-4728-f291-252585806ed3"
      },
      "source": [
        "from sklearn.cluster import KMeans\n",
        "# Number of clusters\n",
        "#This will remove all Nan & Infinity values on which Kmeans cannot work\n",
        "dataset.fillna(-99999, inplace=True)\n",
        "kmeans = KMeans(n_clusters=3)\n",
        "# Getting the cluster labels\n",
        "labels = kmeans.fit_predict(dataset)\n",
        "dataset[\"KMeans\"]= labels\n",
        "# Centroid values\n",
        "centroids = kmeans.cluster_centers_\n",
        "print(\"Centroid values\")\n",
        "print(centroids) \n"
      ],
      "execution_count": 35,
      "outputs": [
        {
          "output_type": "stream",
          "text": [
            "Centroid values\n",
            "[[2.56464671e+03 8.41179641e+00]\n",
            " [2.77482674e+04 8.47325581e+00]\n",
            " [1.32494557e+04 8.46227848e+00]]\n"
          ],
          "name": "stdout"
        }
      ]
    },
    {
      "cell_type": "code",
      "metadata": {
        "colab": {
          "base_uri": "https://localhost:8080/"
        },
        "id": "hrMT3UvyisZ9",
        "outputId": "8f164d04-fa81-4a70-d4cd-3c93eee1473d"
      },
      "source": [
        "print(dataset)"
      ],
      "execution_count": 36,
      "outputs": [
        {
          "output_type": "stream",
          "text": [
            "     anime_id  rating  KMeans\n",
            "0       32281    9.37       1\n",
            "1        5114    9.26       0\n",
            "2       28977    9.25       1\n",
            "3        9253    9.17       2\n",
            "4        9969    9.16       2\n",
            "..        ...     ...     ...\n",
            "327     24997    8.18       1\n",
            "328     32902    8.18       1\n",
            "329      8063    8.18       2\n",
            "330     25879    8.18       1\n",
            "331       889    8.17       0\n",
            "\n",
            "[332 rows x 3 columns]\n"
          ],
          "name": "stdout"
        }
      ]
    },
    {
      "cell_type": "code",
      "metadata": {
        "colab": {
          "base_uri": "https://localhost:8080/",
          "height": 282
        },
        "id": "OAD1p7kWivD5",
        "outputId": "9fefeae9-b229-49f4-d714-ff8d220fa94a"
      },
      "source": [
        "k=3\n",
        "#plotting the clusters\n",
        "colors = ['r', 'g', 'y']\n",
        "fig, ax = plt.subplots()\n",
        "for i in range(k):\n",
        "        points = np.array([X[j] for j in range(len(X)) if labels[j] == i])\n",
        "        ax.scatter(points[:, 0], points[:, 1], c=colors[i])\n",
        "#plotting the centroids        \n",
        "ax.scatter(centroids[:, 0], centroids[:, 1], marker='*', s=500)\n"
      ],
      "execution_count": 38,
      "outputs": [
        {
          "output_type": "execute_result",
          "data": {
            "text/plain": [
              "<matplotlib.collections.PathCollection at 0x7f4bf9bd2790>"
            ]
          },
          "metadata": {
            "tags": []
          },
          "execution_count": 38
        },
        {
          "output_type": "display_data",
          "data": {
            "image/png": "[encoded data removed]",
            "text/plain": [
              "<Figure size 432x288 with 1 Axes>"
            ]
          },
          "metadata": {
            "tags": [],
            "needs_background": "light"
          }
        }
      ]
    },
    {
      "cell_type": "markdown",
      "metadata": {
        "id": "2YkYiiuAnFQB"
      },
      "source": [
        "# ***BIRCH***\n",
        "BIRCH Clustering (BIRCH is short for Balanced Iterative Reducing and Clustering using\n",
        "Hierarchies) involves constructing a tree structure from which cluster centroids are extracted.\n",
        "It is implemented via the Birch class and the main configuration to tune is the “threshold” and “n_clusters” hyperparameters, the latter of which provides an estimate of the number of clusters.\n"
      ]
    },
    {
      "cell_type": "code",
      "metadata": {
        "colab": {
          "base_uri": "https://localhost:8080/",
          "height": 265
        },
        "id": "_sMfIVNWlMTU",
        "outputId": "f8c50eab-c27f-4ad1-c646-ce0688131cce"
      },
      "source": [
        "from sklearn.cluster import Birch\n",
        "# define the model\n",
        "model = Birch(threshold=0.01, n_clusters=2)\n",
        "# fit the model\n",
        "model.fit(X)\n",
        "# assign a cluster to each example\n",
        "y_pred = model.predict(X)\n",
        "for cluster in clusters:\n",
        "\t# get row indexes for samples with this cluster\n",
        "\trow_ix = where(y_pred == cluster)\n",
        "\t# create scatter of these samples\n",
        "\tpyplot.scatter(X[row_ix, 0], X[row_ix, 1])\n",
        "#Visualize the data on graph\n",
        "pyplot.show()"
      ],
      "execution_count": 45,
      "outputs": [
        {
          "output_type": "display_data",
          "data": {
            "image/png": "[encoded data removed]",
            "text/plain": [
              "<Figure size 432x288 with 1 Axes>"
            ]
          },
          "metadata": {
            "tags": [],
            "needs_background": "light"
          }
        }
      ]
    }
  ]
}