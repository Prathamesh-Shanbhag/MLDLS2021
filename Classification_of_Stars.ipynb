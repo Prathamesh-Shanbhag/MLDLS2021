{
  "nbformat": 4,
  "nbformat_minor": 0,
  "metadata": {
    "colab": {
      "name": "Classification of Stars.ipynb",
      "provenance": [],
      "authorship_tag": "ABX9TyMfMK4Cv9lTG/GMNMDh3VE0",
      "include_colab_link": true
    },
    "kernelspec": {
      "name": "python3",
      "display_name": "Python 3"
    },
    "language_info": {
      "name": "python"
    }
  },
  "cells": [
    {
      "cell_type": "markdown",
      "metadata": {
        "id": "view-in-github",
        "colab_type": "text"
      },
      "source": [
        "<a href=\"https://colab.research.google.com/github/Prathamesh-Shanbhag/MLDLS2021/blob/main/Classification_of_Stars.ipynb\" target=\"_parent\"><img src=\"https://colab.research.google.com/assets/colab-badge.svg\" alt=\"Open In Colab\"/></a>"
      ]
    },
    {
      "cell_type": "markdown",
      "metadata": {
        "id": "CZFmUrNLgxSJ"
      },
      "source": [
        " #  ***Importing Libraries & Working on Data***"
      ]
    },
    {
      "cell_type": "code",
      "metadata": {
        "id": "XJ7uichDa1Nd"
      },
      "source": [
        "# Importing the Required Libraries Numpy & Pandas.\n",
        "import numpy as np\n",
        "import pandas as pd"
      ],
      "execution_count": 1,
      "outputs": []
    },
    {
      "cell_type": "markdown",
      "metadata": {
        "id": "2d_DG5hVgu3C"
      },
      "source": [
        ""
      ]
    },
    {
      "cell_type": "code",
      "metadata": {
        "colab": {
          "base_uri": "https://localhost:8080/"
        },
        "id": "zNRLlgY3dY1q",
        "outputId": "68cdc2f9-2076-4560-a4b5-700ca4b0c574"
      },
      "source": [
        "# Reading from CSV Dataset file.\n",
        "dataset = pd.read_csv('Stars.csv')\n",
        "\n",
        "print(dataset)"
      ],
      "execution_count": 2,
      "outputs": [
        {
          "output_type": "stream",
          "text": [
            "     Temperature              L          R    A_M  Color Spectral_Class  Type\n",
            "0           3068       0.002400     0.1700  16.12    Red              M     0\n",
            "1           3042       0.000500     0.1542  16.60    Red              M     0\n",
            "2           2600       0.000300     0.1020  18.70    Red              M     0\n",
            "3           2800       0.000200     0.1600  16.65    Red              M     0\n",
            "4           1939       0.000138     0.1030  20.06    Red              M     0\n",
            "..           ...            ...        ...    ...    ...            ...   ...\n",
            "235        38940  374830.000000  1356.0000  -9.93   Blue              O     5\n",
            "236        30839  834042.000000  1194.0000 -10.63   Blue              O     5\n",
            "237         8829  537493.000000  1423.0000 -10.73  White              A     5\n",
            "238         9235  404940.000000  1112.0000 -11.23  White              A     5\n",
            "239        37882  294903.000000  1783.0000  -7.80   Blue              O     5\n",
            "\n",
            "[240 rows x 7 columns]\n"
          ],
          "name": "stdout"
        }
      ]
    },
    {
      "cell_type": "markdown",
      "metadata": {
        "id": "G8meqhPdd2YY"
      },
      "source": [
        "**TARGET: Type**\n",
        "\n",
        "\n",
        "Legend Key for Star Type\n",
        "from 0 to 5\n",
        "\n",
        "*Red Dwarf - 0,*\n",
        "\n",
        "*Brown Dwarf - 1,*\n",
        "\n",
        "*White Dwarf - 2,*\n",
        "\n",
        "*Main Sequence - 3,*\n",
        "\n",
        "*Super Giants - 4,*\n",
        "\n",
        "*Hyper Giants - 5.* "
      ]
    },
    {
      "cell_type": "code",
      "metadata": {
        "id": "6QKom0Oidwzw"
      },
      "source": [
        "dataset['Type'] = dataset['Type'].astype('category')\n",
        "# Encoding Not Required since Dataset has in-built codes for categories."
      ],
      "execution_count": 4,
      "outputs": []
    },
    {
      "cell_type": "code",
      "metadata": {
        "id": "jdNAmzlEeLP4"
      },
      "source": [
        "# X has all rows & columns except type column, Y has all rows and target attribute which is Type.\n",
        "X = dataset.iloc[:,0:4].values\n",
        "Y = dataset.iloc[:,-1].values"
      ],
      "execution_count": 14,
      "outputs": []
    },
    {
      "cell_type": "code",
      "metadata": {
        "colab": {
          "base_uri": "https://localhost:8080/"
        },
        "id": "9y0red0wfV5V",
        "outputId": "f2a8c971-e871-4b31-af42-ea5fda13efd8"
      },
      "source": [
        "print(X.shape, Y.shape)"
      ],
      "execution_count": 15,
      "outputs": [
        {
          "output_type": "stream",
          "text": [
            "(240, 4) (240,)\n"
          ],
          "name": "stdout"
        }
      ]
    },
    {
      "cell_type": "code",
      "metadata": {
        "colab": {
          "base_uri": "https://localhost:8080/"
        },
        "id": "e-kzdw_2fXCH",
        "outputId": "6e50f98e-15cb-44d3-e060-9954856f7934"
      },
      "source": [
        "# Train Test Split\n",
        "from sklearn.model_selection import train_test_split\n",
        "X_train, X_test, Y_train, Y_test = train_test_split(X, Y, test_size = 0.3)\n",
        "print(X_train.shape, X_test.shape)"
      ],
      "execution_count": 19,
      "outputs": [
        {
          "output_type": "stream",
          "text": [
            "(168, 4) (72, 4)\n"
          ],
          "name": "stdout"
        }
      ]
    },
    {
      "cell_type": "markdown",
      "metadata": {
        "id": "oGqRlByZgN_r"
      },
      "source": [
        " #  ***Logistic Regression***\n",
        "\n",
        "\n",
        "\n",
        "\n",
        "\n",
        "\n"
      ]
    },
    {
      "cell_type": "code",
      "metadata": {
        "colab": {
          "base_uri": "https://localhost:8080/"
        },
        "id": "5YNxAZDrgoZf",
        "outputId": "ba890725-cefb-4a5e-b2c4-7978e0349c7a"
      },
      "source": [
        "from sklearn.linear_model import LogisticRegression\n",
        "\n",
        "modellr = LogisticRegression()\n",
        "modellr.fit(X_train, Y_train)\n",
        "\n",
        "Y_pred = modellr.predict(X_test)\n",
        "print(Y_test, Y_pred)\n"
      ],
      "execution_count": 20,
      "outputs": [
        {
          "output_type": "stream",
          "text": [
            "[1, 1, 2, 1, 0, ..., 1, 0, 5, 2, 1]\n",
            "Length: 72\n",
            "Categories (6, int64): [0, 1, 2, 3, 4, 5] [2 2 2 2 2 2 3 2 3 4 2 2 5 4 5 4 5 2 2 2 3 2 5 5 2 2 2 2 2 2 4 5 2 4 2 2 2\n",
            " 2 2 2 4 2 2 2 5 5 5 2 4 5 2 2 2 4 4 3 4 4 5 2 2 2 2 2 3 5 3 2 2 5 2 2]\n"
          ],
          "name": "stdout"
        },
        {
          "output_type": "stream",
          "text": [
            "/usr/local/lib/python3.7/dist-packages/sklearn/linear_model/_logistic.py:940: ConvergenceWarning: lbfgs failed to converge (status=1):\n",
            "STOP: TOTAL NO. of ITERATIONS REACHED LIMIT.\n",
            "\n",
            "Increase the number of iterations (max_iter) or scale the data as shown in:\n",
            "    https://scikit-learn.org/stable/modules/preprocessing.html\n",
            "Please also refer to the documentation for alternative solver options:\n",
            "    https://scikit-learn.org/stable/modules/linear_model.html#logistic-regression\n",
            "  extra_warning_msg=_LOGISTIC_SOLVER_CONVERGENCE_MSG)\n"
          ],
          "name": "stderr"
        }
      ]
    },
    {
      "cell_type": "markdown",
      "metadata": {
        "id": "n8vN2FFJi216"
      },
      "source": [
        "lbfgs stand for: \"Limited-memory Broyden–Fletcher–Goldfarb–Shanno Algorithm\". It is one of the solvers' algorithms provided by Scikit-Learn Library.\n",
        "\n",
        "The term limited-memory simply means it stores only a few vectors that represent the gradients approximation implicitly.\n",
        "\n",
        "It has better convergence on relatively small datasets.\n",
        "\n",
        "Algorithm convergence:\n",
        "\n",
        "In simple words. If the error of solving is ranging within very small range (i.e., it is almost not changing), then that means the algorithm reached the solution (not necessary to be the best solution as it might be stuck at what so-called \"local Optima\")."
      ]
    },
    {
      "cell_type": "code",
      "metadata": {
        "colab": {
          "base_uri": "https://localhost:8080/"
        },
        "id": "6P6SjxKziFzd",
        "outputId": "192fa177-c1dc-4943-d4c0-ddb1ea2b5b4b"
      },
      "source": [
        "from sklearn.metrics import  confusion_matrix, accuracy_score, precision_score, recall_score\n",
        "\n",
        "print(\"Confusion Matrix:\\n\", confusion_matrix(Y_test, Y_pred))\n",
        "print(\"Accuracy:\", accuracy_score(Y_test, Y_pred)) \n",
        "print(\"Precision:\", precision_score(Y_test, Y_pred, average=None))\n",
        "print(\"Recall:\", recall_score(Y_test, Y_pred, average = None))"
      ],
      "execution_count": 21,
      "outputs": [
        {
          "output_type": "stream",
          "text": [
            "Confusion Matrix:\n",
            " [[ 0  0 10  0  0  0]\n",
            " [ 0  0 16  0  0  0]\n",
            " [ 0  0 12  0  0  0]\n",
            " [ 0  0  4  5  0  0]\n",
            " [ 0  0  0  1 11  0]\n",
            " [ 0  0  0  0  0 13]]\n",
            "Accuracy: 0.5694444444444444\n",
            "Precision: [0.         0.         0.28571429 0.83333333 1.         1.        ]\n",
            "Recall: [0.         0.         1.         0.55555556 0.91666667 1.        ]\n"
          ],
          "name": "stdout"
        },
        {
          "output_type": "stream",
          "text": [
            "/usr/local/lib/python3.7/dist-packages/sklearn/metrics/_classification.py:1272: UndefinedMetricWarning: Precision is ill-defined and being set to 0.0 in labels with no predicted samples. Use `zero_division` parameter to control this behavior.\n",
            "  _warn_prf(average, modifier, msg_start, len(result))\n"
          ],
          "name": "stderr"
        }
      ]
    },
    {
      "cell_type": "markdown",
      "metadata": {
        "id": "Q3VQIlo9pCM8"
      },
      "source": [
        "There are some labels in Y_test, which dont appear in Y_pred and hence it is ill-defined, & Since these are warnings they can be ignored but we should be able to handle missing data/labels to increase accuracy "
      ]
    },
    {
      "cell_type": "markdown",
      "metadata": {
        "id": "UaWo25nrkTqe"
      },
      "source": [
        " #  ***K-Nearest Neighbour Classifier***"
      ]
    },
    {
      "cell_type": "code",
      "metadata": {
        "colab": {
          "base_uri": "https://localhost:8080/"
        },
        "id": "Mv0v88gckYaq",
        "outputId": "f077787b-50d5-47b2-c020-77c84b4486a3"
      },
      "source": [
        "from sklearn.neighbors import KNeighborsClassifier\n",
        "knn = KNeighborsClassifier()\n",
        "knn.fit(X_train, Y_train)\n",
        "\n",
        "Y_pred_knn = knn.predict(X_test)\n",
        "\n",
        "print(\"Confusion Matrix:\\n\", confusion_matrix(Y_test, Y_pred_knn))\n",
        "print(\"Accuracy:\", accuracy_score(Y_test, Y_pred_knn)) "
      ],
      "execution_count": 24,
      "outputs": [
        {
          "output_type": "stream",
          "text": [
            "Confusion Matrix:\n",
            " [[ 6  4  0  0  0  0]\n",
            " [ 5 11  0  0  0  0]\n",
            " [ 0  0 11  1  0  0]\n",
            " [ 0  0  2  7  0  0]\n",
            " [ 0  0  0  1  6  5]\n",
            " [ 0  0  0  1  7  5]]\n",
            "Accuracy: 0.6388888888888888\n"
          ],
          "name": "stdout"
        }
      ]
    },
    {
      "cell_type": "markdown",
      "metadata": {
        "id": "p_mjGnuTlNOH"
      },
      "source": [
        " #  ***Decision Tree Classifier***"
      ]
    },
    {
      "cell_type": "code",
      "metadata": {
        "colab": {
          "base_uri": "https://localhost:8080/"
        },
        "id": "tSj3H7YglHAC",
        "outputId": "a92a3ee6-5fba-48c9-95b3-0c9ff534761c"
      },
      "source": [
        "#Decision Tree\n",
        "from sklearn.tree import DecisionTreeClassifier\n",
        "\n",
        "dtc= DecisionTreeClassifier()\n",
        "dtc.fit(X_train, Y_train)\n",
        "\n",
        "Y_pred_dtc = dtc.predict(X_test)\n",
        "\n",
        "print(\"Confusion Matrix: \\n\", confusion_matrix(Y_test, Y_pred_dtc))\n",
        "print(\"Accuracy:\", accuracy_score(Y_test, Y_pred_dtc)) "
      ],
      "execution_count": 27,
      "outputs": [
        {
          "output_type": "stream",
          "text": [
            "Confusion Matrix: \n",
            " [[10  0  0  0  0  0]\n",
            " [ 0 16  0  0  0  0]\n",
            " [ 0  0 12  0  0  0]\n",
            " [ 0  0  0  9  0  0]\n",
            " [ 0  0  0  0 12  0]\n",
            " [ 0  0  0  0  0 13]]\n",
            "Accuracy: 1.0\n"
          ],
          "name": "stdout"
        }
      ]
    },
    {
      "cell_type": "markdown",
      "metadata": {
        "id": "L64fh5mnoQML"
      },
      "source": [
        " #  ***Random Forest***"
      ]
    },
    {
      "cell_type": "code",
      "metadata": {
        "colab": {
          "base_uri": "https://localhost:8080/"
        },
        "id": "Dg3eMLIGocGU",
        "outputId": "72b86e45-6cea-480a-89ac-7f41a5ef75b8"
      },
      "source": [
        "#Random Forest\n",
        "from sklearn.ensemble import RandomForestClassifier\n",
        "\n",
        "rfc = RandomForestClassifier()\n",
        "rfc.fit(X_train, Y_train)\n",
        "\n",
        "Y_pred_rfc = rfc.predict(X_test)\n",
        "\n",
        "print(\"Confusion Matrix:\\n\", confusion_matrix(Y_test, Y_pred_rfc))\n",
        "print(\"Accuracy:\\n\", accuracy_score(Y_test, Y_pred_rfc))"
      ],
      "execution_count": 26,
      "outputs": [
        {
          "output_type": "stream",
          "text": [
            "Confusion Matrix:\n",
            " [[10  0  0  0  0  0]\n",
            " [ 0 16  0  0  0  0]\n",
            " [ 0  0 12  0  0  0]\n",
            " [ 0  0  0  9  0  0]\n",
            " [ 0  0  0  0 12  0]\n",
            " [ 0  0  0  0  0 13]]\n",
            "Accuracy:\n",
            " 1.0\n"
          ],
          "name": "stdout"
        }
      ]
    },
    {
      "cell_type": "code",
      "metadata": {
        "colab": {
          "base_uri": "https://localhost:8080/"
        },
        "id": "k6RwFcfTqdrW",
        "outputId": "eae012e4-0f95-4057-8b23-c34b148c5fe3"
      },
      "source": [
        "#Import svm model\n",
        "from sklearn import svm\n",
        "\n",
        "clf = svm.SVC(kernel='linear') # Linear Kernel\n",
        "clf.fit(X_train, Y_train)\n",
        "\n",
        "Y_pred_clf = clf.predict(X_test)\n",
        "print(\"Confusion Matrix \\n:\", confusion_matrix(Y_test, Y_pred))\n",
        "print(\"Accuracy:\", accuracy_score(Y_test, Y_pred))\n",
        "print(\"Precision:\", precision_score(Y_test, Y_pred, average=None))\n",
        "print(\"Recall:\", recall_score(Y_test, Y_pred, average=None))"
      ],
      "execution_count": 29,
      "outputs": [
        {
          "output_type": "stream",
          "text": [
            "Confusion Matrix \n",
            ": [[ 0  0 10  0  0  0]\n",
            " [ 0  0 16  0  0  0]\n",
            " [ 0  0 12  0  0  0]\n",
            " [ 0  0  4  5  0  0]\n",
            " [ 0  0  0  1 11  0]\n",
            " [ 0  0  0  0  0 13]]\n",
            "Accuracy: 0.5694444444444444\n",
            "Precision: [0.         0.         0.28571429 0.83333333 1.         1.        ]\n",
            "Recall: [0.         0.         1.         0.55555556 0.91666667 1.        ]\n"
          ],
          "name": "stdout"
        },
        {
          "output_type": "stream",
          "text": [
            "/usr/local/lib/python3.7/dist-packages/sklearn/metrics/_classification.py:1272: UndefinedMetricWarning: Precision is ill-defined and being set to 0.0 in labels with no predicted samples. Use `zero_division` parameter to control this behavior.\n",
            "  _warn_prf(average, modifier, msg_start, len(result))\n"
          ],
          "name": "stderr"
        }
      ]
    },
    {
      "cell_type": "markdown",
      "metadata": {
        "id": "_FkpQG77t3II"
      },
      "source": [
        "\n",
        "\n",
        "*   Confusion Matrix is 6x6 because there are 6 categories which the data can be classifies into.\n",
        "*  Precision & Recall need to have Average= None because this is a multi-class classification & not Binary class classification where averaging is required, hence here we set it to None when calculating Precision & Recall.\n",
        "\n"
      ]
    }
  ]
}